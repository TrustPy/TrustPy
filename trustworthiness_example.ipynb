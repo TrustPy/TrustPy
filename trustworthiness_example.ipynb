{
 "cells": [
  {
   "cell_type": "code",
   "execution_count": 1,
   "id": "0ac59f44",
   "metadata": {},
   "outputs": [],
   "source": [
    "from trustworthiness import Trustworthiness\n",
    "import numpy as np"
   ]
  },
  {
   "cell_type": "code",
   "execution_count": 2,
   "id": "74729169",
   "metadata": {},
   "outputs": [
    {
     "name": "stdout",
     "output_type": "stream",
     "text": [
      "NTS, per class: [0.5, 0.6499999999999999, 0.7]\n",
      "NTS, overall  : 0.6\n"
     ]
    }
   ],
   "source": [
    "oracle = np.array([0,1,2,0,1])\n",
    "predictions = np.array([\n",
    "    [0.8, 0.1, 0.1],\n",
    "    [0.2, 0.7, 0.1],\n",
    "    [0.1, 0.2, 0.7],\n",
    "    [0.1, 0.8, 0.1],\n",
    "    [0.3, 0.3, 0.4],  \n",
    "])\n",
    "\n",
    "trust = Trustworthiness(oracle, predictions, trust_spectrum = True)\n",
    "class_nts, overall_nts = trust.compute_NTS()\n",
    "print(f'NTS, per class: {class_nts}')\n",
    "print(f'NTS, overall  : {overall_nts}')"
   ]
  },
  {
   "cell_type": "code",
   "execution_count": null,
   "id": "dd4ac5d9",
   "metadata": {},
   "outputs": [],
   "source": []
  }
 ],
 "metadata": {
  "kernelspec": {
   "display_name": "Python 3 (ipykernel)",
   "language": "python",
   "name": "python3"
  },
  "language_info": {
   "codemirror_mode": {
    "name": "ipython",
    "version": 3
   },
   "file_extension": ".py",
   "mimetype": "text/x-python",
   "name": "python",
   "nbconvert_exporter": "python",
   "pygments_lexer": "ipython3",
   "version": "3.10.9"
  }
 },
 "nbformat": 4,
 "nbformat_minor": 5
}
